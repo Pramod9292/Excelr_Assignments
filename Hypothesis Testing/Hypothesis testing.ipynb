{
  "nbformat": 4,
  "nbformat_minor": 0,
  "metadata": {
    "colab": {
      "provenance": []
    },
    "kernelspec": {
      "name": "python3",
      "display_name": "Python 3"
    },
    "language_info": {
      "name": "python"
    }
  },
  "cells": [
    {
      "cell_type": "code",
      "execution_count": 7,
      "metadata": {
        "colab": {
          "base_uri": "https://localhost:8080/"
        },
        "id": "8HgVmIe_5ZhH",
        "outputId": "8ae4dd86-6b0f-4f74-d7ee-d6d4b0b24fe5"
      },
      "outputs": [
        {
          "output_type": "stream",
          "name": "stdout",
          "text": [
            "Hypothesis Testing for Weekly Operating Costs\n",
            "\n",
            "Theoretical Mean Weekly Cost: 4000\n",
            "\n",
            "Sample Mean Weekly Cost: 3050\n",
            "\n",
            "Sample Size: 25\n",
            "\n",
            "Standard Deviation of Weekly Operating Cost: 125\n",
            "\n",
            "Test Statistic (t): -38.0\n",
            "\n",
            "Critical Value at alpha={alpha}: 1.6448536269514722\n",
            "\n",
            "Reject the null hypothesis: Fail to reject the null hypothesis\n",
            "\n",
            "\n"
          ]
        }
      ],
      "source": [
        "import numpy as np\n",
        "from scipy import stats\n",
        "\n",
        "# Given data\n",
        "sample_mean = 3050  # sample mean weekly cost\n",
        "theoretical_mean = 1000 + 5 * 600  # theoretical mean weekly cost based on the model\n",
        "std_dev = 5 * 25  # standard deviation (5 * 25 units)\n",
        "n = 25  # sample size\n",
        "alpha = 0.05  # significance level\n",
        "\n",
        "# Step 2: Calculate the test statistic\n",
        "t_statistic = (sample_mean - theoretical_mean) / (std_dev / np.sqrt(n))\n",
        "\n",
        "# Step 3: Determine the critical value (one-tailed test)\n",
        "critical_value = stats.norm.ppf(1 - alpha)\n",
        "\n",
        "# Step 4: Decision\n",
        "if t_statistic > critical_value:\n",
        "    decision = \"Reject the null hypothesis\"\n",
        "else:\n",
        "    decision = \"Fail to reject the null hypothesis\"\n",
        "\n",
        "print(\"Hypothesis Testing for Weekly Operating Costs\")\n",
        "print(\"\\nTheoretical Mean Weekly Cost:\",theoretical_mean)\n",
        "print(\"\\nSample Mean Weekly Cost:\",sample_mean)\n",
        "print(\"\\nSample Size:\",n)\n",
        "print(\"\\nStandard Deviation of Weekly Operating Cost:\",std_dev)\n",
        "print(\"\\nTest Statistic (t):\",t_statistic)\n",
        "print(\"\\nCritical Value at alpha={alpha}:\",critical_value)\n",
        "print(\"\\nReject the null hypothesis:\",decision)\n",
        "print(\"\\n\")\n",
        "\n",
        "\n",
        "\n",
        "\n"
      ]
    },
    {
      "cell_type": "code",
      "source": [],
      "metadata": {
        "id": "z_KEWOJd5f1O"
      },
      "execution_count": null,
      "outputs": []
    }
  ]
}