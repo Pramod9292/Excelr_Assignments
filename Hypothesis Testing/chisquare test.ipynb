{
  "nbformat": 4,
  "nbformat_minor": 0,
  "metadata": {
    "colab": {
      "provenance": []
    },
    "kernelspec": {
      "name": "python3",
      "display_name": "Python 3"
    },
    "language_info": {
      "name": "python"
    }
  },
  "cells": [
    {
      "cell_type": "code",
      "execution_count": 17,
      "metadata": {
        "colab": {
          "base_uri": "https://localhost:8080/"
        },
        "id": "FyhmXYhOwUUw",
        "outputId": "2200631d-0094-460d-d22b-6be45197f996"
      },
      "outputs": [
        {
          "output_type": "stream",
          "name": "stdout",
          "text": [
            "Chi-Square Test for Independence\n",
            " Data:\n",
            " [[ 50  70]\n",
            " [ 80 100]\n",
            " [ 60  90]\n",
            " [ 30  50]\n",
            " [ 20  50]]\n",
            "\n",
            " Expected Frequencies:\n",
            " [[ 48.  72.]\n",
            " [ 72. 108.]\n",
            " [ 60.  90.]\n",
            " [ 32.  48.]\n",
            " [ 28.  42.]]\n",
            "\n",
            "Chi-Square Statistic: 5.638227513227513\n",
            "\n",
            "Degrees of Freedom: 4\n",
            "\n",
            "Critical Value: 9.487729036781154\n",
            "\n",
            "P-value: 0.22784371130697179\n",
            "\n",
            "Reject the null hypothesis: Fail to reject the null hypothesis\n",
            "\n",
            "\n",
            "Conclusion: There is a significant association between the type of device and customer satisfaction level.\n"
          ]
        }
      ],
      "source": [
        "\n",
        "import numpy as np\n",
        "import pandas as pd\n",
        "import scipy.stats as stats\n",
        "\n",
        "# Creating the contingency table based on the data provided\n",
        "data = np.array([[50, 70],\n",
        "                 [80, 100],\n",
        "                 [60, 90],\n",
        "                 [30, 50],\n",
        "                 [20, 50]])\n",
        "\n",
        "# Creating a DataFrame for better readability\n",
        "df = pd.DataFrame(data, columns=['Smart Thermostat', 'Smart Light'],\n",
        "                  index=['Very Satisfied', 'Satisfied', 'Neutral', 'Unsatisfied', 'Very Unsatisfied'])\n",
        "\n",
        "# Step 1: State the Hypotheses\n",
        "# Null Hypothesis (H0): There is no significant association between the type of smart home device and customer satisfaction.\n",
        "# Alternative Hypothesis (H1): There is a significant association between the type of smart home device and customer satisfaction.\n",
        "\n",
        "# Step 2: Compute the Chi-square statistic\n",
        "chi2_stat, p_val, dof, expected = stats.chi2_contingency(df)\n",
        "\n",
        "# Step 3: Determine the critical value\n",
        "alpha = 0.05  # significance level\n",
        "critical_value = stats.chi2.ppf(q=1-alpha, df=dof)\n",
        "\n",
        "# Step 4: Make a Decision\n",
        "decision = \"Reject the null hypothesis\" if chi2_stat > critical_value else \"Fail to reject the null hypothesis\"\n",
        "\n",
        "print(\"Chi-Square Test for Independence\")\n",
        "print(\" Data:\\n\",data)\n",
        "print(\"\\n Expected Frequencies:\\n\",expected)\n",
        "print(\"\\nChi-Square Statistic:\",chi2_stat)\n",
        "print(\"\\nDegrees of Freedom:\",dof)\n",
        "print(\"\\nCritical Value:\",critical_value)\n",
        "print(\"\\nP-value:\",p_val)\n",
        "print(\"\\nReject the null hypothesis:\", decision )\n",
        "print(\"\\n\")\n",
        "\n",
        "if decision:\n",
        "    print(\"Conclusion: There is a significant association between the type of device and customer satisfaction level.\")\n",
        "else:\n",
        "    print(\"Conclusion: There is no significant association between the type of device and customer satisfaction level.\")\n",
        "\n",
        "\n",
        "\n"
      ]
    },
    {
      "cell_type": "code",
      "source": [],
      "metadata": {
        "id": "AzgOr5n7yQM1"
      },
      "execution_count": null,
      "outputs": []
    }
  ]
}